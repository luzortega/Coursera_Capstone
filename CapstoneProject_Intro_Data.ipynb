{
 "cells": [
  {
   "cell_type": "markdown",
   "metadata": {},
   "source": [
    "# Applied Data Science Capstone Project Report\n",
    "---\n",
    "# Battle of Neighborhoods: New York City & Airbnb Listings \n",
    "\n",
    "**Author: Luz Ortega**\n",
    "\n",
    "![title](https://storage.needpix.com/thumbs/manhattan-2362419_1280.jpg)\n",
    "\n",
    "----\n",
    "\n",
    "This project report is for the Applied Data Science Capstone Course, a course part of the IBM Data Science Professional Certificate Specialization, where students learn about location data, location data providers, as well as Python libraries to manipulate, explore, analyze, and visualize data. The problem and analysis approach for this project can be chosen by the student, however, it is required to leverage the Fourquare location data to solve the problem."
   ]
  },
  {
   "cell_type": "markdown",
   "metadata": {},
   "source": [
    "# Table of Contents\n",
    "\n",
    "1. [Introduction](#intro)\n",
    "* [Data](#data)\n",
    "* [Methodology](#method)\n",
    "* [Results](#res)\n",
    "* [Discussion](#dis)\n",
    "* [Conclusion](#concl)"
   ]
  },
  {
   "cell_type": "markdown",
   "metadata": {},
   "source": [
    "<a id='intro'></a>\n",
    "\n",
    "---\n",
    "## Introduction\n"
   ]
  },
  {
   "cell_type": "markdown",
   "metadata": {},
   "source": [
    "Nowadays, with the increasing smart devices penetration worldwide, location data (i.e., geographical position in terms of latitude and longitude) have become easier to obtain and it is used by multiple companies/apps to build better mobile experiences. Examples of such companies are: UBER, Lyft, Starbucks, Mindbody, Facebook, just to name a few. Another company that uses location data is Airbnb, a community-driven hospitality company, which lets people rent out their properties or spare room to guests. In other words, Airbnb offers their users someone's home to stay, instead of the conventional lodging option of a hotel. One of the most popular destination in the world is New York City. In March of 2018, Mayor Bill de Blasio announced that the city welcomed an estimated 62.8 million visitors in 2017, 49.7 million corresponded to domestic visitors, while 13.1 million corresponded to international visitors. It is known that New York City has one of the most active hotel development pipeline in the United States. According to the announcement, even with the 4,000 new rooms added to the city's inventory in 2017 (bringing the total to about 116,500 rooms) room's demand remained strong. In 2017, New York City sold record 36.4 million hotel room nights. Development of the tourist sector, especially in the topic of accommodations, remains important for the big apple. \n",
    "\n",
    "**The main goal of this project is to explore and analyze data of New York City neighborhoods and Inside Airbnb to recommend Airbnb locations based on the surrounding venues of the rental places and listing data.** The are three main stakeholders interested in this type of information:\n",
    "* **Travelers/Renters:** Knowing the category of the surrounding venues of Airbnb locations can help travelers decide where to stay. For example, if a traveler is interested in Broadway shows, that person might want to stay in a neighborhood where the surrounding venues include theaters and perhaps bars, in case he/she wants to enjoy some cocktails before or after the show. On the other hand, if a traveler is into fitness and exercising, that person might want to stay in a location surrounded by common venues such as gyms, parks, juice bars, or yoga studios. \n",
    "* **Home-owners interested or already renting out their properties:**  It is important to identify and profile your potential travelers. By knowing what type of travelers might be interested in certain locations, home-owners can create and improve marketing strategies (e.g., pictures, recommended locations nearby the rental place, rental fees etc) to promote their property. This information can also help home-owners maximize their vacation rental listing description to make the most impact on guests.  \n",
    "* **Real estate investors:** People that want to invest in short-term vacation rentals need to know what places are profitable, how many listings are in certain neighborhood, what is the average night fee for properties in the different neighborhoods, what are the common surrounding venues of a potential place, etc.\n",
    "\n",
    "Note that both home-owners and real state investors are probably interested in knowing how many listings are in specific neighborhoods, where are the listing located, what are the popular surrounding venues for specific listing, are the travelers short-term or long-term visitors, among many other questions.  "
   ]
  },
  {
   "cell_type": "markdown",
   "metadata": {},
   "source": [
    "<a id=\"data\"></a>\n",
    "## Data\n",
    "\n",
    "\n",
    "---"
   ]
  },
  {
   "cell_type": "markdown",
   "metadata": {},
   "source": [
    "You can absolutely use other datasets in combination with the Foursquare location data. So make sure that you provide adequate explanation and discussion, with examples, of the data that you will be using, even if it is only Foursquare location data.\n",
    "\n",
    "\n",
    "This section provides a description of the data used for this project. There are three datasets:\n",
    "* **New York City Neighborhood Names:** This dataset was created as a guide to New York City’s neighborhoods that appear on the web resource, \"New York: A City of Neighborhoods\" and it is available online at the New York University Spatial Data Repository website (https://geo.nyu.edu/catalog/nyu_2451_34572). The dataset has all 5 boroughs and 306 neighborhoods as well as the the latitude and longitude coordinates of each neighborhood. This dataset will be used to plot the neighborhoods where Airbnb listings are being offered, i.e., this dataset along with geographical, plotting, and mapping libraries are used to visualize the neighborhoods on a map as shown in the figure below.\n",
    "<img src=\"Dataset1.JPG\" width=\"250\">\n",
    "\n",
    " This dataset is a collection of nested Python dictionaries. This data will be transformed into a *pandas* dataframe, with the following columns: 'Borough', 'Neighborhood', 'Latitude', and 'Longitude'. The resulting dataframe will have 306 rows and 4 columns. \n",
    "\n",
    "* **Inside Airbnb:** Inside Airbnb is an independent, non-commercial, open source data tool that allows users to explore Airbnb data. The data behind the Inside Airbnb site is sourced from publicly available information from the Airbnb site. The dataset for this project corresponds to Airbnb listings of New York City and it was downloaded from http://insideairbnb.com/get-the-data.html and compiled on December 06, 2018. The keys of the dataframe (i.e., columns) include listing ID, neighborhood, borough, price, rating scores, geographical coordinates of the listings, room type, minimum nights, among others. \n",
    "\n",
    " <img src=\"https://pbs.twimg.com/profile_images/575532099827986432/uiwyE4c1_400x400.png\" width=\"250\">\n",
    "\n",
    "  For the purpose of this project, only listings meeting these requirements were considered:\n",
    "  \n",
    " * Listings must accommodate minimum two people\n",
    " * Room type must be 'Entire home/apt'\n",
    " * No minimum nights requirements, i.e., guests can book the rental place for just one night.\n",
    " After cleaning the data, the final dataset is shown below.  \n",
    " \n",
    " <img src=\"listing_dataset.JPG\" width=\"650\">\n",
    " \n",
    " Data exploration using this dataset let the users find out information such as, what neighborhoods have more listing, what borough is the most expensive, what is the average price for listings in an specific neighborhood, or what listings have the highest or least rating scores?. It is important to note that this dataset doesn't provide geographical coordinates for each neighborhood, only provides them for the listings. However, the neighborhood coordinates can be obtained from the **New York City Neighborhood Names** dataset explained above in case users want to visualize what neighborhoods offer Airbnb rental places.\n",
    " \n",
    "* **Foursquare location data:** Foursquare API is used to explore the Airbnb listings and segment them. Foursquare data can provide the trending surrounding venues of a given pair of coordinates, in this case the pair of coordinates corresponds to an Airbnb rental place. This data will be used to create a dataframe, where each row represents a rental place, and most of the columns represent the occurrence of a venue type nearby such rental place. This dataframe can give us insights about the location of the rental place, including trending venues, type of venues, or even what listings share common nearby places. Note that to use this data, it is necessary to create a Foursquare developers account. Once the account is created, you will obtain a Client ID and a Client secret, these credentials are needed to make data requests.\n",
    "\n",
    " <img src=\"https://marketingland.com/wp-content/ml-loads/2014/07/foursquare-name-logo-ss-1920.jpg\" width=\"250\">\n",
    " \n",
    "\n",
    "\n",
    "\n",
    "\n"
   ]
  },
  {
   "cell_type": "markdown",
   "metadata": {},
   "source": [
    "## Methodology\n",
    "\n",
    "<a id=\"method\"></a>\n",
    "\n",
    "---"
   ]
  },
  {
   "cell_type": "markdown",
   "metadata": {},
   "source": [
    "The project was developed using Jupyter Notebook and Python as the programming language.\n",
    "\n",
    "### Python packages/libraries\n",
    "\n",
    "* **NumPy:** Library to handle data in a vectorized manner\n",
    "* **Pandas:** Library for data analysis\n",
    "* **JSON:** Library to handle JSON files\n",
    "* **Geopy:** Library to obtain geographical coordinates\n",
    "* **Requests:** Library to handle requests\n",
    "* **Matplotlib:** Plotting library\n",
    "* **Scipy:** Library for scientific computing\n",
    "* **Sklearn:** Machine learning library\n",
    "* **Folium:** Map rendering library"
   ]
  },
  {
   "cell_type": "markdown",
   "metadata": {},
   "source": [
    "## Results\n",
    "\n",
    "<a id=\"res\"></a>\n",
    "\n",
    "---"
   ]
  },
  {
   "cell_type": "markdown",
   "metadata": {},
   "source": [
    "Results"
   ]
  },
  {
   "cell_type": "markdown",
   "metadata": {},
   "source": [
    "## Discussion\n",
    "\n",
    "<a id=\"dis\"></a>\n",
    "\n",
    "---"
   ]
  },
  {
   "cell_type": "markdown",
   "metadata": {},
   "source": [
    "Discussion"
   ]
  },
  {
   "cell_type": "markdown",
   "metadata": {},
   "source": [
    "## Conclusion\n",
    "<a id=\"concl\"></a>\n",
    "\n",
    "----\n",
    "\n",
    "Conclusion"
   ]
  },
  {
   "cell_type": "code",
   "execution_count": null,
   "metadata": {},
   "outputs": [],
   "source": []
  }
 ],
 "metadata": {
  "kernelspec": {
   "display_name": "Python 3",
   "language": "python",
   "name": "python3"
  },
  "language_info": {
   "codemirror_mode": {
    "name": "ipython",
    "version": 3
   },
   "file_extension": ".py",
   "mimetype": "text/x-python",
   "name": "python",
   "nbconvert_exporter": "python",
   "pygments_lexer": "ipython3",
   "version": "3.6.6"
  }
 },
 "nbformat": 4,
 "nbformat_minor": 2
}
